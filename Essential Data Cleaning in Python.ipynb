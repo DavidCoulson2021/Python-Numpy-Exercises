{
 "cells": [
  {
   "cell_type": "code",
   "execution_count": 1,
   "id": "f9909199",
   "metadata": {},
   "outputs": [],
   "source": [
    "#Essential Data Cleaning in Python\n"
   ]
  },
  {
   "cell_type": "code",
   "execution_count": 2,
   "id": "c986a4d7",
   "metadata": {},
   "outputs": [],
   "source": [
    "#TABLE OF CONTENTS\n",
    "#1. Bad data\n",
    "#2. Error detection\n",
    "#3. Error prevention\n",
    "#4. Error correction\n",
    "#https://www.linkedin.com/learning/data-cleaning-in-python-essential-training?contextUrn=urn%3Ali%3AlyndaLearningPath%3A5ec59c4a498e70845153bbc5&u=2043324\n",
    "#a) note packages are installed and/or imported in the relevant sections as needed"
   ]
  },
  {
   "cell_type": "code",
   "execution_count": 3,
   "id": "d26708dd",
   "metadata": {},
   "outputs": [],
   "source": [
    "#1. Bad data start"
   ]
  },
  {
   "cell_type": "code",
   "execution_count": 4,
   "id": "ebc006bb",
   "metadata": {},
   "outputs": [
    {
     "name": "stdout",
     "output_type": "stream",
     "text": [
      "         date    name  amount  price\n",
      "0  2021-03-01  carrot     7.0   5.73\n",
      "1  2021-03-01     egg    12.0   1.70\n",
      "2  2021-03-01    milk     NaN   3.57\n",
      "3  2021-03-01  potato     2.0    NaN\n",
      "4         NaN  tomato     6.0   1.52\n",
      "5  2021-03-02  potato     3.0   2.17\n",
      "6  2021-03-03     NaN     5.0   3.68\n"
     ]
    }
   ],
   "source": [
    "#Missing data\n",
    "import pandas as pd\n",
    "\n",
    "df_missingvalues = pd.read_csv('https://raw.githubusercontent.com/LinkedInLearning/data_cleaning_python_2883183/main/Ch01/01_02/cart.csv')\n",
    "print(df_missingvalues)"
   ]
  },
  {
   "cell_type": "code",
   "execution_count": 5,
   "id": "7056081a",
   "metadata": {},
   "outputs": [
    {
     "data": {
      "text/plain": [
       "date       object\n",
       "name       object\n",
       "amount    float64\n",
       "price     float64\n",
       "dtype: object"
      ]
     },
     "execution_count": 5,
     "metadata": {},
     "output_type": "execute_result"
    }
   ],
   "source": [
    "df_missingvalues.dtypes"
   ]
  },
  {
   "cell_type": "code",
   "execution_count": 6,
   "id": "58d20014",
   "metadata": {},
   "outputs": [
    {
     "data": {
      "text/plain": [
       "0    False\n",
       "1    False\n",
       "2     True\n",
       "3    False\n",
       "4    False\n",
       "5     True\n",
       "dtype: bool"
      ]
     },
     "execution_count": 6,
     "metadata": {},
     "output_type": "execute_result"
    }
   ],
   "source": [
    "#Duplicate data\n",
    "df_duplicatevalues = pd.read_csv('https://raw.githubusercontent.com/LinkedInLearning/data_cleaning_python_2883183/main/Ch01/01_04/cart.csv', parse_dates=['date'])\n",
    "df_duplicatevalues\n",
    "\n",
    "df_duplicatevalues.duplicated()\n",
    "\n",
    "\n",
    "df_duplicatevalues.duplicated(['date', 'name'])"
   ]
  },
  {
   "cell_type": "code",
   "execution_count": 7,
   "id": "6b3b4153",
   "metadata": {},
   "outputs": [
    {
     "name": "stdout",
     "output_type": "stream",
     "text": [
      "                       time name         value\n",
      "0   2021-07-13 14:36:52.380  mem  2.275172e+08\n",
      "1   2021-07-13 14:36:52.380  cpu  3.157000e+01\n",
      "2   2021-07-13 14:36:53.337  mem  2.275192e+08\n",
      "3   2021-07-13 14:36:53.337  cpu  3.009000e+02\n",
      "4   2021-07-13 14:36:54.294  mem  2.275157e+08\n",
      "..                      ...  ...           ...\n",
      "95  2021-07-13 14:37:37.359  mem  2.274985e+08\n",
      "96  2021-07-13 14:37:38.316  cpu  3.507000e+01\n",
      "97  2021-07-13 14:37:38.316  mem  2.274929e+08\n",
      "98  2021-07-13 14:37:39.273  mem  2.274967e+08\n",
      "99  2021-07-13 14:37:39.273  cpu  3.477000e+01\n",
      "\n",
      "[100 rows x 3 columns]\n"
     ]
    }
   ],
   "source": [
    "#Data with bad values\n",
    "df_badvalues = pd.read_csv('https://raw.githubusercontent.com/LinkedInLearning/data_cleaning_python_2883183/main/Ch01/01_03/metrics.csv')\n",
    "print(df_badvalues)"
   ]
  },
  {
   "cell_type": "code",
   "execution_count": 8,
   "id": "74dc7852",
   "metadata": {},
   "outputs": [
    {
     "data": {
      "text/html": [
       "<div>\n",
       "<style scoped>\n",
       "    .dataframe tbody tr th:only-of-type {\n",
       "        vertical-align: middle;\n",
       "    }\n",
       "\n",
       "    .dataframe tbody tr th {\n",
       "        vertical-align: top;\n",
       "    }\n",
       "\n",
       "    .dataframe thead th {\n",
       "        text-align: right;\n",
       "    }\n",
       "</style>\n",
       "<table border=\"1\" class=\"dataframe\">\n",
       "  <thead>\n",
       "    <tr style=\"text-align: right;\">\n",
       "      <th></th>\n",
       "      <th>time</th>\n",
       "      <th>name</th>\n",
       "      <th>value</th>\n",
       "    </tr>\n",
       "  </thead>\n",
       "  <tbody>\n",
       "    <tr>\n",
       "      <th>6</th>\n",
       "      <td>2021-07-13 14:36:55.251</td>\n",
       "      <td>mem</td>\n",
       "      <td>295.0</td>\n",
       "    </tr>\n",
       "  </tbody>\n",
       "</table>\n",
       "</div>"
      ],
      "text/plain": [
       "                      time name  value\n",
       "6  2021-07-13 14:36:55.251  mem  295.0"
      ]
     },
     "execution_count": 8,
     "metadata": {},
     "output_type": "execute_result"
    },
    {
     "data": {
      "image/png": "[encoded data removed]",
      "text/plain": [
       "<Figure size 432x288 with 3 Axes>"
      ]
     },
     "metadata": {
      "needs_background": "light"
     },
     "output_type": "display_data"
    }
   ],
   "source": [
    "df_badvalues.sample(10)\n",
    "\n",
    "df_badvalues.groupby('name').describe()\n",
    "\n",
    "df_badvalues['name'].value_counts()\n",
    "\n",
    "pd.pivot(df_badvalues, index='time', columns='name').plot(subplots=True)\n",
    "\n",
    "df_badvalues.query('name == \"cpu\" & (value < 0 | value > 100)')\n",
    "\n",
    "mem = df_badvalues[df_badvalues['name'] == 'mem']['value']\n",
    "z_score = (mem - mem.mean())/mem.std()\n",
    "bad_mem = mem[z_score.abs() > 2]\n",
    "\n",
    "df_badvalues.loc[bad_mem.index]"
   ]
  },
  {
   "cell_type": "code",
   "execution_count": 9,
   "id": "e3e5cacc",
   "metadata": {},
   "outputs": [],
   "source": [
    "#1. Bad data end"
   ]
  },
  {
   "cell_type": "code",
   "execution_count": 10,
   "id": "fb25629b",
   "metadata": {},
   "outputs": [
    {
     "name": "stdout",
     "output_type": "stream",
     "text": [
      "              name        lat        lng\n",
      "0      Black Pearl  20.664865 -80.709747\n",
      "1            Cobra  20.664868 -80.709740\n",
      "2  Flying Dutchman  20.664878 -80.709941\n",
      "3          Empress        NaN        NaN\n"
     ]
    },
    {
     "data": {
      "text/plain": [
       "name     object\n",
       "lat     float64\n",
       "lng     float64\n",
       "dtype: object"
      ]
     },
     "execution_count": 10,
     "metadata": {},
     "output_type": "execute_result"
    }
   ],
   "source": [
    "#2. Error detection start\n",
    "#schemas\n",
    "df_schemas = pd.read_csv('https://raw.githubusercontent.com/LinkedInLearning/data_cleaning_python_2883183/main/Ch03/03_01/ships.csv')\n",
    "print(df_schemas)\n",
    "df_schemas.dtypes"
   ]
  },
  {
   "cell_type": "code",
   "execution_count": 11,
   "id": "e5e24678",
   "metadata": {},
   "outputs": [],
   "source": [
    "#pip install pandera"
   ]
  },
  {
   "cell_type": "code",
   "execution_count": 12,
   "id": "8e805ae2",
   "metadata": {},
   "outputs": [
    {
     "ename": "ImportError",
     "evalue": "cannot import name dataclass_transform",
     "output_type": "error",
     "traceback": [
      "\u001b[1;31m---------------------------------------------------------------------------\u001b[0m",
      "\u001b[1;31mImportError\u001b[0m                               Traceback (most recent call last)",
      "\u001b[1;32m<ipython-input-12-446b6bd1be81>\u001b[0m in \u001b[0;36m<module>\u001b[1;34m\u001b[0m\n\u001b[0;32m      1\u001b[0m \u001b[1;31m#validation\u001b[0m\u001b[1;33m\u001b[0m\u001b[1;33m\u001b[0m\u001b[1;33m\u001b[0m\u001b[0m\n\u001b[1;32m----> 2\u001b[1;33m \u001b[1;32mimport\u001b[0m \u001b[0mpandera\u001b[0m \u001b[1;32mas\u001b[0m \u001b[0mpa\u001b[0m\u001b[1;33m\u001b[0m\u001b[1;33m\u001b[0m\u001b[0m\n\u001b[0m\u001b[0;32m      3\u001b[0m \u001b[1;32mimport\u001b[0m \u001b[0mnumpy\u001b[0m \u001b[1;32mas\u001b[0m \u001b[0mnp\u001b[0m\u001b[1;33m\u001b[0m\u001b[1;33m\u001b[0m\u001b[0m\n\u001b[0;32m      4\u001b[0m \u001b[1;33m\u001b[0m\u001b[0m\n\u001b[0;32m      5\u001b[0m schema = pa.DataFrameSchema({\n",
      "\u001b[1;32mD:\\Anaconda3_Python\\lib\\site-packages\\pandera\\__init__.py\u001b[0m in \u001b[0;36m<module>\u001b[1;34m\u001b[0m\n\u001b[0;32m     32\u001b[0m )\n\u001b[0;32m     33\u001b[0m \u001b[1;32mfrom\u001b[0m \u001b[0mpandera\u001b[0m\u001b[1;33m.\u001b[0m\u001b[0mengines\u001b[0m\u001b[1;33m.\u001b[0m\u001b[0mnumpy_engine\u001b[0m \u001b[1;32mimport\u001b[0m \u001b[0mObject\u001b[0m\u001b[1;33m\u001b[0m\u001b[1;33m\u001b[0m\u001b[0m\n\u001b[1;32m---> 34\u001b[1;33m from pandera.engines.pandas_engine import (\n\u001b[0m\u001b[0;32m     35\u001b[0m     \u001b[0mBOOL\u001b[0m\u001b[1;33m,\u001b[0m\u001b[1;33m\u001b[0m\u001b[1;33m\u001b[0m\u001b[0m\n\u001b[0;32m     36\u001b[0m     \u001b[0mINT8\u001b[0m\u001b[1;33m,\u001b[0m\u001b[1;33m\u001b[0m\u001b[1;33m\u001b[0m\u001b[0m\n",
      "\u001b[1;32mD:\\Anaconda3_Python\\lib\\site-packages\\pandera\\engines\\pandas_engine.py\u001b[0m in \u001b[0;36m<module>\u001b[1;34m\u001b[0m\n\u001b[0;32m     18\u001b[0m \u001b[1;32mimport\u001b[0m \u001b[0mpandas\u001b[0m \u001b[1;32mas\u001b[0m \u001b[0mpd\u001b[0m\u001b[1;33m\u001b[0m\u001b[1;33m\u001b[0m\u001b[0m\n\u001b[0;32m     19\u001b[0m \u001b[1;32mfrom\u001b[0m \u001b[0mpackaging\u001b[0m \u001b[1;32mimport\u001b[0m \u001b[0mversion\u001b[0m\u001b[1;33m\u001b[0m\u001b[1;33m\u001b[0m\u001b[0m\n\u001b[1;32m---> 20\u001b[1;33m \u001b[1;32mfrom\u001b[0m \u001b[0mpydantic\u001b[0m \u001b[1;32mimport\u001b[0m \u001b[0mBaseModel\u001b[0m\u001b[1;33m,\u001b[0m \u001b[0mValidationError\u001b[0m\u001b[1;33m\u001b[0m\u001b[1;33m\u001b[0m\u001b[0m\n\u001b[0m\u001b[0;32m     21\u001b[0m \u001b[1;33m\u001b[0m\u001b[0m\n\u001b[0;32m     22\u001b[0m \u001b[1;32mfrom\u001b[0m \u001b[1;33m.\u001b[0m\u001b[1;33m.\u001b[0m \u001b[1;32mimport\u001b[0m \u001b[0mdtypes\u001b[0m\u001b[1;33m,\u001b[0m \u001b[0merrors\u001b[0m\u001b[1;33m\u001b[0m\u001b[1;33m\u001b[0m\u001b[0m\n",
      "\u001b[1;32mD:\\Anaconda3_Python\\lib\\site-packages\\pydantic\\__init__.cp38-win_amd64.pyd\u001b[0m in \u001b[0;36minit pydantic.__init__\u001b[1;34m()\u001b[0m\n",
      "\u001b[1;32mD:\\Anaconda3_Python\\lib\\site-packages\\pydantic\\dataclasses.cp38-win_amd64.pyd\u001b[0m in \u001b[0;36minit pydantic.dataclasses\u001b[1;34m()\u001b[0m\n",
      "\u001b[1;31mImportError\u001b[0m: cannot import name dataclass_transform"
     ]
    }
   ],
   "source": [
    "#validation\n",
    "import pandera as pa\n",
    "import numpy as np\n",
    "\n",
    "schema = pa.DataFrameSchema({\n",
    "    'name': pa.Column(pa.String),\n",
    "    'lat': pa.Column(pa.Float, nullable = True),\n",
    "    'lng': pa.Column(pa.Float, nullable = True),\n",
    "})\n",
    "\n",
    "df_validate = pd.read_csv('https://raw.githubusercontent.com/LinkedInLearning/data_cleaning_python_2883183/main/Ch03/03_02/ships.csv')\n",
    "schema.validate(df_validate)"
   ]
  },
  {
   "cell_type": "code",
   "execution_count": null,
   "id": "6d908675",
   "metadata": {},
   "outputs": [],
   "source": [
    "#Finding missing data\n",
    "df_missingdata = pd.read_csv('https://raw.githubusercontent.com/LinkedInLearning/data_cleaning_python_2883183/main/Ch03/03_03/ships.csv')\n",
    "\n",
    "df_missingdata[df_missingdata.isnull().any(axis=1)]\n",
    "\n",
    "df_missingdata.iloc[-1]['name']\n",
    "\n",
    "df_missingdata['name'] = df_missingdata['name'].str.strip()\n",
    "df_missingdata.iloc[-1]['name']\n",
    "\n",
    "\n",
    "df_missingdata[df_missingdata.isnull().any(axis=1)]\n",
    "\n",
    "mask = df_missingdata['name'].str.strip() == ''\n",
    "df_missingdata.loc[mask, 'name'] = np.nan\n",
    "# %%\n",
    "\n",
    "df_missingdata[df_missingdata.isnull().any(axis=1)]"
   ]
  },
  {
   "cell_type": "code",
   "execution_count": null,
   "id": "f3edd5b7",
   "metadata": {},
   "outputs": [],
   "source": [
    "#Exploiting domain knowledge\n",
    "df_domain = pd.read_csv('https://raw.githubusercontent.com/LinkedInLearning/data_cleaning_python_2883183/main/Ch03/03_04/ships.csv')\n",
    "df_domain"
   ]
  },
  {
   "cell_type": "code",
   "execution_count": null,
   "id": "66461812",
   "metadata": {},
   "outputs": [],
   "source": [
    "schema = pa.DataFrameSchema({\n",
    "    'name': pa.Column(pa.String),\n",
    "    'lat': pa.Column(\n",
    "        pa.Float,\n",
    "        nullable=True,\n",
    "        checks=pa.Check(\n",
    "            lambda v: v >= -90 and v <= 90,\n",
    "            element_wise=True,\n",
    "        ),\n",
    "    ),\n",
    "    'lng': pa.Column(\n",
    "        pa.Float,\n",
    "        nullable=True,\n",
    "        checks=pa.Check(\n",
    "            lambda v: v >= -180 and v <= 180,\n",
    "            element_wise=True,\n",
    "        ),\n",
    "    ),\n",
    "})\n",
    "\n",
    "schema.validate(df_domain)"
   ]
  },
  {
   "cell_type": "code",
   "execution_count": null,
   "id": "c163d7c7",
   "metadata": {},
   "outputs": [],
   "source": [
    "#subgroups within height data\n",
    "df_height = pd.read_csv('https://raw.githubusercontent.com/LinkedInLearning/data_cleaning_python_2883183/main/Ch03/03_05/heights.csv')\n",
    "df_height"
   ]
  },
  {
   "cell_type": "code",
   "execution_count": null,
   "id": "4f5ecc25",
   "metadata": {},
   "outputs": [],
   "source": [
    "max_heights = pd.DataFrame([\n",
    "[1, 32],\n",
    "], columns=['grade', 'max_height'])\n",
    "max_heights\n",
    "\n",
    "# %%\n",
    "mdf = pd.merge(df_height, max_heights, how='left')\n",
    "mdf\n",
    "\n",
    "# %%\n",
    "df_height[mdf['height'] > mdf['max_height']]"
   ]
  },
  {
   "cell_type": "code",
   "execution_count": null,
   "id": "8d3e5fe0",
   "metadata": {},
   "outputs": [],
   "source": [
    "#Challenge\n",
    "# Find out all the rows that have bad values\n",
    "# - Missing values are not allowed\n",
    "# - A plate must be a combination of at least 3 upper case letters or digits\n",
    "# - Distance much be bigger than 0\n",
    "df_challenge3 = pd.read_csv('https://raw.githubusercontent.com/LinkedInLearning/data_cleaning_python_2883183/main/Ch03/challenge/rides.csv')\n",
    "df_challenge3"
   ]
  },
  {
   "cell_type": "code",
   "execution_count": null,
   "id": "9fa95aa6",
   "metadata": {},
   "outputs": [],
   "source": [
    "null_mask = df_challenge3.isnull().any(axis=1)\n",
    "df_challenge3[null_mask]"
   ]
  },
  {
   "cell_type": "code",
   "execution_count": null,
   "id": "28909216",
   "metadata": {},
   "outputs": [],
   "source": [
    "plate_mask = ~df_challenge3['plate'].str.match(r'^[0-9A-Z]{3,}', na=False)\n",
    "df_challenge3[plate_mask]"
   ]
  },
  {
   "cell_type": "code",
   "execution_count": null,
   "id": "e9397327",
   "metadata": {},
   "outputs": [],
   "source": [
    "dist_mask = df_challenge3['distance'] < 0\n",
    "df_challenge3[dist_mask]"
   ]
  },
  {
   "cell_type": "code",
   "execution_count": null,
   "id": "8198742a",
   "metadata": {},
   "outputs": [],
   "source": [
    "mask = null_mask | plate_mask | dist_mask\n",
    "df_challenge3[mask]"
   ]
  },
  {
   "cell_type": "code",
   "execution_count": null,
   "id": "b46bc567",
   "metadata": {},
   "outputs": [],
   "source": [
    "#2. Error detection end"
   ]
  },
  {
   "cell_type": "code",
   "execution_count": null,
   "id": "580d9b14",
   "metadata": {},
   "outputs": [],
   "source": [
    "#pip install pyarrow"
   ]
  },
  {
   "cell_type": "code",
   "execution_count": null,
   "id": "29620011",
   "metadata": {},
   "outputs": [],
   "source": [
    "#3. Error prevention start\n",
    "size = 5\n",
    "df = pd.DataFrame({\n",
    "    'time': pd.date_range('2021', freq='17s', periods=size),\n",
    "    'name': ['cpu'] * size,\n",
    "    'value': np.random.rand(size) * 40,\n",
    "})\n",
    "df"
   ]
  },
  {
   "cell_type": "code",
   "execution_count": null,
   "id": "49f628ec",
   "metadata": {},
   "outputs": [],
   "source": [
    "import pyarrow as pa\n",
    "\n",
    "schema = pa.schema([\n",
    "    ('time', pa.timestamp('ms')),\n",
    "    ('name', pa.string()),\n",
    "    ('value', pa.float64()),\n",
    "])"
   ]
  },
  {
   "cell_type": "code",
   "execution_count": null,
   "id": "dc00e44e",
   "metadata": {},
   "outputs": [],
   "source": [
    "out_file = 'metrics.parquet'\n",
    "df.to_parquet(out_file, schema=schema)"
   ]
  },
  {
   "cell_type": "code",
   "execution_count": null,
   "id": "6e693bf2",
   "metadata": {},
   "outputs": [],
   "source": [
    "pd.read_parquet(out_file)"
   ]
  },
  {
   "cell_type": "code",
   "execution_count": null,
   "id": "2377f604",
   "metadata": {},
   "outputs": [],
   "source": [
    "#illustrating the error of casting time as a string\n",
    "#df['time'] = df['time'].astype(str)\n",
    "#df.to_parquet(out_file, schema=schema)"
   ]
  },
  {
   "cell_type": "code",
   "execution_count": null,
   "id": "2ec4a1ec",
   "metadata": {},
   "outputs": [],
   "source": [
    "#processing and quality metrics\n",
    "df_orders = pd.read_csv('https://raw.githubusercontent.com/LinkedInLearning/data_cleaning_python_2883183/main/Ch04/04_06/orders.csv', parse_dates=['time'])\n",
    "df_orders\n",
    "\n",
    "# %%\n",
    "def is_valid_row(row):\n",
    "    if row['time'] < pd.Timestamp('1900'):\n",
    "        return False\n",
    "\n",
    "    if pd.isnull(row['symbol']) or row['symbol'].strip() == '':\n",
    "        return False\n",
    "\n",
    "    if row['price'] <= 0:\n",
    "        return False\n",
    "\n",
    "    return True\n",
    "\n",
    "\n",
    "ok_df = df_orders[df_orders.apply(is_valid_row, axis=1)]\n",
    "\n",
    "# %%\n",
    "num_bad = len(df) - len(ok_df)\n",
    "percent_bad = num_bad/len(df) * 100\n",
    "print(f'{percent_bad:.2f}% bad rows')\n",
    "if num_bad > 0:\n",
    "    bad_rows = df[~df.index.isin(ok_df.index)]\n",
    "    print('bad rows:')\n",
    "    print(bad_rows)"
   ]
  },
  {
   "cell_type": "code",
   "execution_count": null,
   "id": "eec66090",
   "metadata": {},
   "outputs": [],
   "source": [
    "#3. Error prevention end\n"
   ]
  },
  {
   "cell_type": "code",
   "execution_count": null,
   "id": "d77d2352",
   "metadata": {},
   "outputs": [],
   "source": [
    "#4. Error correction start\n",
    "df = pd.read_csv('https://raw.githubusercontent.com/LinkedInLearning/data_cleaning_python_2883183/main/Ch05/05_01/weather.csv', parse_dates=['DATE'])\n",
    "df\n",
    "\n"
   ]
  },
  {
   "cell_type": "code",
   "execution_count": null,
   "id": "e810aee3",
   "metadata": {},
   "outputs": [],
   "source": [
    "df.rename(columns={\n",
    "    'DATE': 'date',\n",
    "    'TMIN': 'min_temp',\n",
    "    'TMAX': 'max_temp',\n",
    "}, inplace=True)\n",
    "df"
   ]
  },
  {
   "cell_type": "code",
   "execution_count": null,
   "id": "e9aa9667",
   "metadata": {},
   "outputs": [],
   "source": [
    "df = pd.read_csv('https://raw.githubusercontent.com/LinkedInLearning/data_cleaning_python_2883183/main/Ch05/05_01/donations.csv')\n",
    "df"
   ]
  },
  {
   "cell_type": "code",
   "execution_count": null,
   "id": "98be6071",
   "metadata": {},
   "outputs": [],
   "source": [
    "import re\n",
    "\n",
    "def fix_col(col):\n",
    "    \"\"\"Fix column name\n",
    "    >>> fix_col('1. First Name')\n",
    "    'first_name'\n",
    "    \"\"\"\n",
    "    return (\n",
    "        re.sub(r'\\d+\\.\\s+', '', col)\n",
    "        .lower()\n",
    "        .replace(' ', '_')\n",
    "    )\n",
    "\n",
    "df.rename(columns=fix_col, inplace=True)\n",
    "df"
   ]
  },
  {
   "cell_type": "code",
   "execution_count": null,
   "id": "acc3e219",
   "metadata": {},
   "outputs": [],
   "source": [
    "df_points = pd.read_csv('https://raw.githubusercontent.com/LinkedInLearning/data_cleaning_python_2883183/main/Ch05/05_02/points.csv')\n",
    "df_points.dtypes\n",
    "\n",
    "def asint(val):\n",
    "    return int(val, base=0)\n",
    "\n",
    "df_points['color'] = df_points['color'].apply(asint)\n",
    "df_points.dtypes"
   ]
  },
  {
   "cell_type": "code",
   "execution_count": null,
   "id": "53423d1a",
   "metadata": {},
   "outputs": [],
   "source": [
    "bools = {\n",
    "    'yes': True,\n",
    "    'no': False,\n",
    "}\n",
    "df_points['visible'] = df_points['visible'].map(bools)\n",
    "df_points.dtypes"
   ]
  },
  {
   "cell_type": "code",
   "execution_count": null,
   "id": "05808f70",
   "metadata": {},
   "outputs": [],
   "source": [
    "df_points"
   ]
  },
  {
   "cell_type": "code",
   "execution_count": null,
   "id": "9a5c412a",
   "metadata": {},
   "outputs": [],
   "source": [
    "#4. Error correction end"
   ]
  }
 ],
 "metadata": {
  "kernelspec": {
   "display_name": "Python 3",
   "language": "python",
   "name": "python3"
  },
  "language_info": {
   "codemirror_mode": {
    "name": "ipython",
    "version": 3
   },
   "file_extension": ".py",
   "mimetype": "text/x-python",
   "name": "python",
   "nbconvert_exporter": "python",
   "pygments_lexer": "ipython3",
   "version": "3.8.8"
  }
 },
 "nbformat": 4,
 "nbformat_minor": 5
}
